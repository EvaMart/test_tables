{
 "cells": [
  {
   "cell_type": "code",
   "execution_count": 3,
   "metadata": {},
   "outputs": [
    {
     "data": {
      "application/javascript": [
       "require.config({\n",
       "    paths: {\n",
       "        datatables: 'https://cdn.datatables.net/1.10.19/js/jquery.dataTables.min',\n",
       "    }\n",
       "});\n",
       "\n",
       "$('head').append('<link rel=\"stylesheet\" type=\"text/css\" \\\n",
       "                href = \"https://cdn.datatables.net/1.10.19/css/jquery.dataTables.min.css\" > ');\n",
       "\n",
       "$('head').append('<style> table td { text-overflow: ellipsis; overflow: hidden; } </style>');\n",
       "\n",
       "$('head').append(`<script>\n",
       "function eval_functions(map_or_text) {\n",
       "    if (typeof map_or_text === \"string\") {\n",
       "        if (map_or_text.startsWith(\"function\")) {\n",
       "            try {\n",
       "                // Note: parenthesis are required around the whole expression for eval to return a value!\n",
       "                // See https://stackoverflow.com/a/7399078/911298.\n",
       "                //\n",
       "                // eval(\"local_fun = \" + map_or_text) would fail because local_fun is not declared\n",
       "                // (using var, let or const would work, but it would only be declared in the local scope\n",
       "                // and therefore the value could not be retrieved).\n",
       "                const func = eval(\"(\" + map_or_text + \")\");\n",
       "                if (typeof func !== \"function\") {\n",
       "                    // Note: backquotes are super convenient!\n",
       "                    // https://developer.mozilla.org/en-US/docs/Web/JavaScript/Reference/Template_literals\n",
       "                    console.error(\"Evaluated expression \" + map_or_text + \" is not a function (type is \" + typeof func + \")\");\n",
       "                    return map_or_text;\n",
       "                }\n",
       "                // Return the function\n",
       "                return func;\n",
       "            } catch (e) {\n",
       "                // Make sure to print the error with a second argument to console.error().\n",
       "                console.error(\"itables was not able to parse \" + map_or_text, e);\n",
       "            }\n",
       "        }\n",
       "    } else if (typeof map_or_text === \"object\") {\n",
       "        if (map_or_text instanceof Array) {\n",
       "            // Note: \"var\" is now superseded by \"let\" and \"const\".\n",
       "            // https://medium.com/javascript-scene/javascript-es6-var-let-or-const-ba58b8dcde75\n",
       "            const result = [];\n",
       "            // Note: \"for of\" is the best way to iterate through an iterable.\n",
       "            // https://developer.mozilla.org/en-US/docs/Web/JavaScript/Reference/Statements/for...of\n",
       "            for (const item of map_or_text) {\n",
       "                result.push(eval_functions(item));\n",
       "            }\n",
       "            return result;\n",
       "\n",
       "            // Alternatively, more functional approach in one line:\n",
       "            // return map_or_text.map(eval_functions);\n",
       "        } else {\n",
       "            const result = {};\n",
       "            // Object.keys() is safer than \"for in\" because otherwise you might have keys\n",
       "            // that aren't defined in the object itself.\n",
       "            //\n",
       "            // See https://stackoverflow.com/a/684692/911298.\n",
       "            for (const item of Object.keys(map_or_text)) {\n",
       "                result[item] = eval_functions(map_or_text[item]);\n",
       "            }\n",
       "            return result;\n",
       "        }\n",
       "    }\n",
       "\n",
       "    return map_or_text;\n",
       "}\n",
       "\n",
       "</` + 'script>');"
      ],
      "text/plain": [
       "<IPython.core.display.Javascript object>"
      ]
     },
     "metadata": {},
     "output_type": "display_data"
    },
    {
     "data": {
      "text/html": [
       "<div><table id=\"60b6c368-6578-4177-a8e0-0300b711eef6\" class=\"display\"><thead>\n",
       "    <tr style=\"text-align: right;\">\n",
       "      \n",
       "      <th>name</th>\n",
       "      <th>description</th>\n",
       "      <th>type</th>\n",
       "      <th>topic</th>\n",
       "      <th>input</th>\n",
       "      <th>output</th>\n",
       "    </tr>\n",
       "  </thead></table>\n",
       "<script type=\"text/javascript\">\n",
       "require([\"datatables\"], function (datatables) {\n",
       "    $(document).ready(function () {\n",
       "        var dt_args = {\"scrollY\": \"400px\", \"scrollCollapse\": true, \"paging\": false, \"columnDefs\": [{\"width\": \"70px\", \"targets\": \"_all\"}], \"data\": [[\"cabnet\", \"CABNet is a category Attention Block for Imbalanced Diabetic Retinopathy Grading\", \"['Script']\", \"[{'term': 'Imaging', 'uri': 'http://edamontology.org/topic_3382'}, {'term': 'Machine learning', 'uri': 'http://edamontology.org/topic_3474'}]\", \"[]\", \"[]\"], [\"rmea\", \"An R package to assess nonverbal synchronization in motion energy analysis time-series.\\n\\nThe goal of rMEA is to provide a suite of tools useful to read, visualize and export bivariate Motion Energy time-series. Lagged synchrony between subjects can be analyzed through windowed cross-correlation. Surrogate data generation allows an estimation of pseudosynchrony that helps to estimate the effect size of the observed synchronization.\", \"[]\", \"[{'term': 'Imaging', 'uri': 'http://edamontology.org/topic_3382'}, {'term': 'Gene expression', 'uri': 'http://edamontology.org/topic_0203'}, {'term': 'Literature and language', 'uri': 'http://edamontology.org/topic_3068'}]\", \"[]\", \"[]\"], [\"breedbase\", \"Breedbase is a comprehensive breeding management and analysis software. It can be used to design field layouts, collect phenotypic information using tablets, support the collection of genotyping samples in a field, store large amounts of high density genotypic information, and provide Genomic Selection related analyses and predictions. Breedbase supports the BrAPI standard.\", \"['Bioinformatics portal']\", \"[{'term': 'Agricultural science', 'uri': 'http://edamontology.org/topic_3810'}, {'term': 'Plant biology', 'uri': 'http://edamontology.org/topic_0780'}, {'term': 'Genotype and phenotype', 'uri': 'http://edamontology.org/topic_0625'}, {'term': 'NMR', 'uri': 'http://edamontology.org/topic_0593'}, {'term': 'Workflows', 'uri': 'http://edamontology.org/topic_0769'}]\", \"[]\", \"[]\"], [\"reactioncode\", \"Format for Reaction Searching, Analysis, Classification, Transform, and Encoding/Decoding.\\n\\nReactionCode is a new versatile format for searching, analysis, classification, transform, and encoding decoding of reactions.\", \"[]\", \"[{'term': 'Machine learning', 'uri': 'http://edamontology.org/topic_3474'}, {'term': 'Chemistry', 'uri': 'http://edamontology.org/topic_3314'}, {'term': 'Molecular biology', 'uri': 'http://edamontology.org/topic_3047'}, {'term': 'Small molecules', 'uri': 'http://edamontology.org/topic_0154'}]\", \"[]\", \"[]\"], [\"rawr\", \"Direct access to raw mass spectrometry data in R.\\n\\nR interface for Thermo Fisher Scientifc raw files branched from rawDiag. This package wraps the functionality of the RawFileReader .NET assembly. Within the R environment spectra and chromatograms are represented by S3 objects. All objects are currently kept in memory. Later versions will support on-disc backend processing and lazy evaluation.\\n\\nPlease install the latest release from https://github.com/fgcz/rawR/releases according to the provided instructions.\", \"[]\", \"[{'term': 'Proteomics experiment', 'uri': 'http://edamontology.org/topic_3520'}, {'term': 'Proteomics', 'uri': 'http://edamontology.org/topic_0121'}, {'term': 'Sequence assembly', 'uri': 'http://edamontology.org/topic_0196'}]\", \"[]\", \"[]\"]]};\n",
       "        dt_args = eval_functions(dt_args);\n",
       "        table = $('#60b6c368-6578-4177-a8e0-0300b711eef6').DataTable(dt_args);\n",
       "    });\n",
       "})\n",
       "</script>\n",
       "</div>\n"
      ],
      "text/plain": [
       "<IPython.core.display.HTML object>"
      ]
     },
     "metadata": {},
     "output_type": "display_data"
    }
   ],
   "source": [
    "import pandas as pd\n",
    "from itables import init_notebook_mode\n",
    "from itables import show\n",
    "\n",
    "init_notebook_mode(all_interactive=True)\n",
    "\n",
    "path_data='/home/eva/FAIRplus/tooling/WP3_FAIR_tooling/tool_discovery/outputs/ETL/tools_aggregation.tsv'\n",
    "df = pd.read_csv(path_data, sep='\\t')\n",
    "df =df[:5]\n",
    "\n",
    "show(df, scrollY=\"400px\", scrollCollapse=True, paging=False)"
   ]
  },
  {
   "cell_type": "code",
   "execution_count": null,
   "metadata": {},
   "outputs": [],
   "source": []
  },
  {
   "cell_type": "code",
   "execution_count": null,
   "metadata": {},
   "outputs": [],
   "source": []
  }
 ],
 "metadata": {
  "kernelspec": {
   "display_name": "Python 3",
   "language": "python",
   "name": "python3"
  },
  "language_info": {
   "codemirror_mode": {
    "name": "ipython",
    "version": 3
   },
   "file_extension": ".py",
   "mimetype": "text/x-python",
   "name": "python",
   "nbconvert_exporter": "python",
   "pygments_lexer": "ipython3",
   "version": "3.6.9"
  }
 },
 "nbformat": 4,
 "nbformat_minor": 2
}
